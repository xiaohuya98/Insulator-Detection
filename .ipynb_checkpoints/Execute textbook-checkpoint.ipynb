{
 "cells": [
  {
   "cell_type": "code",
   "execution_count": 11,
   "id": "d84be128-0003-464d-878f-1406b05c9588",
   "metadata": {},
   "outputs": [
    {
     "name": "stdout",
     "output_type": "stream",
     "text": [
      "/home/studio-lab-user/Practice/Insulator Detection\n"
     ]
    }
   ],
   "source": [
    "!pwd"
   ]
  },
  {
   "cell_type": "code",
   "execution_count": null,
   "id": "bed8a5f4-64d4-4eee-a3af-74ec378e4adf",
   "metadata": {},
   "outputs": [],
   "source": [
    "def parse_xml_to_dict(self, xml):\n",
    "        \"\"\"\n",
    "        将xml文件解析成字典形式，参考tensorflow的recursive_parse_xml_to_dict\n",
    "        Args:\n",
    "            xml: xml tree obtained by parsing XML file contents using lxml.etree\n",
    "\n",
    "        Returns:\n",
    "            Python dictionary holding XML contents.\n",
    "        \"\"\"\n",
    "\n",
    "        if len(xml) == 0:  # 遍历到底层，直接返回tag对应的信息\n",
    "            return {xml.tag: xml.text}\n",
    "\n",
    "        result = {}\n",
    "        for child in xml:\n",
    "            child_result = self.parse_xml_to_dict(child)  # 递归遍历标签信息\n",
    "            if child.tag != 'object':\n",
    "                result[child.tag] = child_result[child.tag]\n",
    "            else:\n",
    "                if child.tag not in result:  # 因为object可能有多个，所以需要放入列表里\n",
    "                    result[child.tag] = []\n",
    "                result[child.tag].append(child_result[child.tag])\n",
    "        return {xml.tag: result}\n"
   ]
  },
  {
   "cell_type": "code",
   "execution_count": 37,
   "id": "ad4baf43-c674-4724-a3e9-4da2f5712470",
   "metadata": {},
   "outputs": [
    {
     "ename": "NameError",
     "evalue": "name 'etree' is not defined",
     "output_type": "error",
     "traceback": [
      "\u001b[0;31m---------------------------------------------------------------------------\u001b[0m",
      "\u001b[0;31mNameError\u001b[0m                                 Traceback (most recent call last)",
      "\u001b[0;32m/tmp/ipykernel_249/3900469452.py\u001b[0m in \u001b[0;36m<module>\u001b[0;34m\u001b[0m\n\u001b[1;32m      2\u001b[0m \u001b[0;32mwith\u001b[0m \u001b[0mopen\u001b[0m\u001b[0;34m(\u001b[0m\u001b[0mxml_path\u001b[0m\u001b[0;34m)\u001b[0m \u001b[0;32mas\u001b[0m \u001b[0mfid\u001b[0m\u001b[0;34m:\u001b[0m\u001b[0;34m\u001b[0m\u001b[0;34m\u001b[0m\u001b[0m\n\u001b[1;32m      3\u001b[0m     \u001b[0mxml_str\u001b[0m \u001b[0;34m=\u001b[0m \u001b[0mfid\u001b[0m\u001b[0;34m.\u001b[0m\u001b[0mread\u001b[0m\u001b[0;34m(\u001b[0m\u001b[0;34m)\u001b[0m\u001b[0;34m\u001b[0m\u001b[0;34m\u001b[0m\u001b[0m\n\u001b[0;32m----> 4\u001b[0;31m \u001b[0mxml\u001b[0m \u001b[0;34m=\u001b[0m \u001b[0metree\u001b[0m\u001b[0;34m.\u001b[0m\u001b[0mfromstring\u001b[0m\u001b[0;34m(\u001b[0m\u001b[0mxml_str\u001b[0m\u001b[0;34m)\u001b[0m\u001b[0;34m\u001b[0m\u001b[0;34m\u001b[0m\u001b[0m\n\u001b[0m",
      "\u001b[0;31mNameError\u001b[0m: name 'etree' is not defined"
     ]
    }
   ],
   "source": [
    "xml_path = 'Insulator/InsulatorDataSet/Normal_Insulators/labels/0056.xml'\n",
    "with open(xml_path) as fid:\n",
    "    xml_str = fid.read()\n",
    "xml = etree.fromstring(xml_str)"
   ]
  },
  {
   "cell_type": "code",
   "execution_count": 35,
   "id": "8e33603f-99c2-4fce-b473-9923101fcd91",
   "metadata": {},
   "outputs": [
    {
     "name": "stdout",
     "output_type": "stream",
     "text": [
      "/home/studio-lab-user/Practice/Insulator Detection\n"
     ]
    }
   ],
   "source": [
    "!pwd"
   ]
  },
  {
   "cell_type": "code",
   "execution_count": 39,
   "id": "0a451d8d-63d6-401c-bcf1-b705cc8f20cc",
   "metadata": {},
   "outputs": [
    {
     "ename": "ModuleNotFoundError",
     "evalue": "No module named 'lxml'",
     "output_type": "error",
     "traceback": [
      "\u001b[0;31m---------------------------------------------------------------------------\u001b[0m",
      "\u001b[0;31mModuleNotFoundError\u001b[0m                       Traceback (most recent call last)",
      "\u001b[0;32m/tmp/ipykernel_249/387073736.py\u001b[0m in \u001b[0;36m<module>\u001b[0;34m\u001b[0m\n\u001b[0;32m----> 1\u001b[0;31m \u001b[0;32mfrom\u001b[0m \u001b[0mlxml\u001b[0m \u001b[0;32mimport\u001b[0m \u001b[0metree\u001b[0m\u001b[0;34m\u001b[0m\u001b[0;34m\u001b[0m\u001b[0m\n\u001b[0m",
      "\u001b[0;31mModuleNotFoundError\u001b[0m: No module named 'lxml'"
     ]
    }
   ],
   "source": [
    "from lxml import etree"
   ]
  },
  {
   "cell_type": "code",
   "execution_count": null,
   "id": "7a7a5b53-d7b2-420f-b95e-04260189911e",
   "metadata": {},
   "outputs": [],
   "source": []
  }
 ],
 "metadata": {
  "kernelspec": {
   "display_name": "default:Python",
   "language": "python",
   "name": "conda-env-default-py"
  },
  "language_info": {
   "codemirror_mode": {
    "name": "ipython",
    "version": 3
   },
   "file_extension": ".py",
   "mimetype": "text/x-python",
   "name": "python",
   "nbconvert_exporter": "python",
   "pygments_lexer": "ipython3",
   "version": "3.9.7"
  }
 },
 "nbformat": 4,
 "nbformat_minor": 5
}
